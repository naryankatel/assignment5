{
 "cells": [
  {
   "cell_type": "markdown",
   "id": "c44bde8f",
   "metadata": {},
   "source": [
    "#1.Write a function to compute 5/0 and use try/except to catch exceptions."
   ]
  },
  {
   "cell_type": "code",
   "execution_count": 5,
   "id": "97f2b2d4",
   "metadata": {},
   "outputs": [
    {
     "name": "stdout",
     "output_type": "stream",
     "text": [
      "5\n",
      "Dinominator has to be greater than 0\n"
     ]
    }
   ],
   "source": [
    "def div(num):\n",
    "    num =int(input())\n",
    "    try:\n",
    "        num%0\n",
    "    except ZeroDivisionError:\n",
    "        print(\"Dinominator has to be greater than 0\")\n",
    "        \n",
    "div('num')\n",
    "        "
   ]
  },
  {
   "cell_type": "code",
   "execution_count": null,
   "id": "52d48599",
   "metadata": {},
   "outputs": [],
   "source": [
    "#2. Implement a Python program to generate all sentences where subject is in\n",
    "#[\"Americans\", \"Indians\"] and verb is in [\"Play\", \"watch\"] and the object is in\n",
    "#[\"Baseball\",\"cricket\"].\n",
    "#Hint: Subject,Verb and Object should be declared in the program as shown below.\n",
    "#subjects=[\"Americans \",\"Indians\"]\n",
    "#verbs=[\"play\",\"watch\"]\n",
    "#objects=[\"Baseball\",\"Cricket\"]\n",
    "#Output should come as below:\n",
    "#Americans play Baseball.\n",
    "#Americans play Cricket.\n",
    "#Americans watch Baseball.\n",
    "#Americans watch Cricket.\n",
    "#Indians play Baseball.\n",
    "#Indians play Cricket.\n",
    "#Indians watch Baseball.\n",
    "#Indians watch Cricket."
   ]
  },
  {
   "cell_type": "code",
   "execution_count": 14,
   "id": "b5db73f7",
   "metadata": {},
   "outputs": [],
   "source": [
    "subjects=['Americans','Indians']\n",
    "verbs=['Play','watch']\n",
    "objects=['Baseball','Cricket']"
   ]
  },
  {
   "cell_type": "code",
   "execution_count": 15,
   "id": "5d8fef37",
   "metadata": {},
   "outputs": [
    {
     "name": "stdout",
     "output_type": "stream",
     "text": [
      "Americans Play Baseball\n",
      "Americans Play Cricket\n",
      "Americans watch Baseball\n",
      "Americans watch Cricket\n",
      "Indians Play Baseball\n",
      "Indians Play Cricket\n",
      "Indians watch Baseball\n",
      "Indians watch Cricket\n"
     ]
    }
   ],
   "source": [
    "all_sentences =[(sub+\" \"+ver+\" \"+obj) for sub in subjects for ver in verbs for obj in objects]\n",
    "for sentence in all_sentences:\n",
    "    print(sentence)"
   ]
  },
  {
   "cell_type": "code",
   "execution_count": null,
   "id": "3c78d083",
   "metadata": {},
   "outputs": [],
   "source": []
  }
 ],
 "metadata": {
  "kernelspec": {
   "display_name": "Python 3",
   "language": "python",
   "name": "python3"
  },
  "language_info": {
   "codemirror_mode": {
    "name": "ipython",
    "version": 3
   },
   "file_extension": ".py",
   "mimetype": "text/x-python",
   "name": "python",
   "nbconvert_exporter": "python",
   "pygments_lexer": "ipython3",
   "version": "3.6.9"
  }
 },
 "nbformat": 4,
 "nbformat_minor": 5
}
